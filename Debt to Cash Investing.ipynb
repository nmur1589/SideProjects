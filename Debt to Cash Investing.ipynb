{
 "cells": [
  {
   "cell_type": "code",
   "execution_count": 699,
   "metadata": {},
   "outputs": [],
   "source": [
    "import pandas as pd\n",
    "from bs4 import BeautifulSoup\n",
    "import requests\n",
    "from datetime import date\n",
    "import re\n",
    "pd.reset_option('display.float_format')\n",
    "import numpy as np\n",
    "import seaborn as sns\n",
    "import matplotlib.pyplot as plt"
   ]
  },
  {
   "cell_type": "markdown",
   "metadata": {},
   "source": [
    "**Run the Scraper Notebook first to export Stock_Scrape.csv and Stock_ScrapeQ.csv to the working directory**"
   ]
  },
  {
   "cell_type": "code",
   "execution_count": 700,
   "metadata": {},
   "outputs": [],
   "source": [
    "#import scraped stocks\n",
    "\n",
    "df = pd.read_csv('Stock_Scrape.csv', index_col = 0) #YE2019 \n",
    "dfQ = pd.read_csv('Stock_ScrapeQ.csv', index_col = 0) #MRQ\n",
    "df = df.replace('-', 0).reset_index()\n",
    "dfQ = dfQ.replace('-', 0).reset_index()"
   ]
  },
  {
   "cell_type": "code",
   "execution_count": 701,
   "metadata": {},
   "outputs": [],
   "source": [
    "#Get List of S&P\n",
    "companies = pd.read_csv('https://datahub.io/core/s-and-p-500-companies/r/constituents.csv')\n",
    "Symbol = companies.Symbol\n",
    "companies.columns = ['Ticker', 'Name', 'Sector']"
   ]
  },
  {
   "cell_type": "code",
   "execution_count": 702,
   "metadata": {},
   "outputs": [],
   "source": [
    "def convert(string):\n",
    "    \n",
    "    try:\n",
    "        #try a mathematical calculation to check if already a number\n",
    "        # if it is simply return value\n",
    "        int(64) * int(string)\n",
    "        return(float(string))\n",
    "    \n",
    "    except:\n",
    "               \n",
    "        #find parenthetical, B, or M indicators\n",
    "        regex = re.compile(r'[\\( \\)]')\n",
    "        p = ''.join(regex.findall(string))\n",
    "\n",
    "        regex = re.compile(r'B')\n",
    "        b = ''.join(regex.findall(string))\n",
    "\n",
    "        regex = re.compile(r'M')\n",
    "        m = ''.join(regex.findall(string))\n",
    "\n",
    "        #negative if enclosed in parenthetical\n",
    "        if p == '()':\n",
    "            neg = -1\n",
    "        else:\n",
    "            neg = 1\n",
    "\n",
    "        #Billions if ends in B\n",
    "        if b == 'B':\n",
    "            mult = 1000000\n",
    "\n",
    "        #Millions if ends in B\n",
    "        elif m == 'M':\n",
    "            mult = 1000\n",
    "        else:\n",
    "            mult = 1\n",
    "\n",
    "        #pull out the number\n",
    "        regex = re.compile(r'\\d+(\\..*)?\\d')\n",
    "        value = regex.search(string)\n",
    "\n",
    "        #convert to integer\n",
    "        try:\n",
    "            value = float(value.group())\n",
    "        except:\n",
    "            value = 0\n",
    "\n",
    "        #multiply by negative flag and multiple established above\n",
    "        return round(float(value) * neg * mult,2)\n"
   ]
  },
  {
   "cell_type": "code",
   "execution_count": 703,
   "metadata": {},
   "outputs": [],
   "source": [
    "def pconvert(x):\n",
    "    x = str(x).replace('%','')\n",
    "    x = str(x).replace(',','')\n",
    "    return x"
   ]
  },
  {
   "cell_type": "code",
   "execution_count": 704,
   "metadata": {},
   "outputs": [],
   "source": [
    "#function to convert data in dataframes\n",
    "\n",
    "def DataConversions(data):\n",
    "    data.epsgrowth = data.epsgrowth.apply(pconvert).astype(float)\n",
    "    data.roa = data.roa.apply(pconvert).astype(float)\n",
    "    data.eps = data.eps.apply(convert).astype(float)\n",
    "    data.netincome = data.netincome.apply(convert).astype('int64')\n",
    "    data.shareholderequity = data.shareholderequity.apply(convert).astype('int64')\n",
    "    data.longtermdebt = data.longtermdebt.apply(convert).astype('int64')\n",
    "    data.interestexpense = data.interestexpense.apply(convert).astype('int64')\n",
    "    data.ebitda = data.ebitda.apply(convert).astype('int64')\n",
    "    data['ST Debt'] = data['ST Debt'].apply(convert).astype('int64')\n",
    "    data.Cash = data.Cash.apply(convert).astype('int64')\n",
    "    data = data[data.Cash>0] #remove companies with no cash\n",
    "    data['TotalDebt'] = data.longtermdebt + data['ST Debt']\n",
    "    data['D2C'] = data.TotalDebt / data.Cash\n",
    "    \n",
    "    return data"
   ]
  },
  {
   "cell_type": "code",
   "execution_count": 705,
   "metadata": {},
   "outputs": [
    {
     "name": "stderr",
     "output_type": "stream",
     "text": [
      "C:\\Users\\nmur1\\anaconda3\\lib\\site-packages\\ipykernel_launcher.py:15: SettingWithCopyWarning: \n",
      "A value is trying to be set on a copy of a slice from a DataFrame.\n",
      "Try using .loc[row_indexer,col_indexer] = value instead\n",
      "\n",
      "See the caveats in the documentation: https://pandas.pydata.org/pandas-docs/stable/user_guide/indexing.html#returning-a-view-versus-a-copy\n",
      "  from ipykernel import kernelapp as app\n",
      "C:\\Users\\nmur1\\anaconda3\\lib\\site-packages\\ipykernel_launcher.py:16: SettingWithCopyWarning: \n",
      "A value is trying to be set on a copy of a slice from a DataFrame.\n",
      "Try using .loc[row_indexer,col_indexer] = value instead\n",
      "\n",
      "See the caveats in the documentation: https://pandas.pydata.org/pandas-docs/stable/user_guide/indexing.html#returning-a-view-versus-a-copy\n",
      "  app.launch_new_instance()\n"
     ]
    }
   ],
   "source": [
    "# convert the text to numbers based on my function\n",
    "\n",
    "df = DataConversions(df)\n",
    "dfQ = DataConversions(dfQ)\n"
   ]
  },
  {
   "cell_type": "code",
   "execution_count": 706,
   "metadata": {},
   "outputs": [
    {
     "data": {
      "text/html": [
       "<div>\n",
       "<style scoped>\n",
       "    .dataframe tbody tr th:only-of-type {\n",
       "        vertical-align: middle;\n",
       "    }\n",
       "\n",
       "    .dataframe tbody tr th {\n",
       "        vertical-align: top;\n",
       "    }\n",
       "\n",
       "    .dataframe thead th {\n",
       "        text-align: right;\n",
       "    }\n",
       "</style>\n",
       "<table border=\"1\" class=\"dataframe\">\n",
       "  <thead>\n",
       "    <tr style=\"text-align: right;\">\n",
       "      <th></th>\n",
       "      <th>index</th>\n",
       "      <th>eps</th>\n",
       "      <th>epsgrowth</th>\n",
       "      <th>netincome</th>\n",
       "      <th>shareholderequity</th>\n",
       "      <th>roa</th>\n",
       "      <th>longtermdebt</th>\n",
       "      <th>interestexpense</th>\n",
       "      <th>ebitda</th>\n",
       "      <th>ST Debt</th>\n",
       "      <th>Cash</th>\n",
       "      <th>Ticker</th>\n",
       "      <th>TotalDebt</th>\n",
       "      <th>D2C</th>\n",
       "    </tr>\n",
       "  </thead>\n",
       "  <tbody>\n",
       "    <tr>\n",
       "      <th>1556</th>\n",
       "      <td>MRQ-3</td>\n",
       "      <td>1.78</td>\n",
       "      <td>26.19</td>\n",
       "      <td>1750000</td>\n",
       "      <td>63810000</td>\n",
       "      <td>8.72</td>\n",
       "      <td>19030000</td>\n",
       "      <td>2280000</td>\n",
       "      <td>0</td>\n",
       "      <td>0</td>\n",
       "      <td>18440000</td>\n",
       "      <td>MET</td>\n",
       "      <td>19030000</td>\n",
       "      <td>1.031996</td>\n",
       "    </tr>\n",
       "    <tr>\n",
       "      <th>1557</th>\n",
       "      <td>MRQ-2</td>\n",
       "      <td>2.32</td>\n",
       "      <td>30.07</td>\n",
       "      <td>2190000</td>\n",
       "      <td>68370000</td>\n",
       "      <td>9.20</td>\n",
       "      <td>19160000</td>\n",
       "      <td>2820000</td>\n",
       "      <td>0</td>\n",
       "      <td>0</td>\n",
       "      <td>19450000</td>\n",
       "      <td>MET</td>\n",
       "      <td>19160000</td>\n",
       "      <td>0.985090</td>\n",
       "    </tr>\n",
       "    <tr>\n",
       "      <th>1558</th>\n",
       "      <td>MRQ-1</td>\n",
       "      <td>0.58</td>\n",
       "      <td>-74.80</td>\n",
       "      <td>588000</td>\n",
       "      <td>66140000</td>\n",
       "      <td>8.86</td>\n",
       "      <td>18980000</td>\n",
       "      <td>265000</td>\n",
       "      <td>0</td>\n",
       "      <td>0</td>\n",
       "      <td>16600000</td>\n",
       "      <td>MET</td>\n",
       "      <td>18980000</td>\n",
       "      <td>1.143373</td>\n",
       "    </tr>\n",
       "    <tr>\n",
       "      <th>1559</th>\n",
       "      <td>MRQ</td>\n",
       "      <td>4.78</td>\n",
       "      <td>718.70</td>\n",
       "      <td>4400000</td>\n",
       "      <td>70220000</td>\n",
       "      <td>9.52</td>\n",
       "      <td>18640000</td>\n",
       "      <td>5680000</td>\n",
       "      <td>0</td>\n",
       "      <td>0</td>\n",
       "      <td>24090000</td>\n",
       "      <td>MET</td>\n",
       "      <td>18640000</td>\n",
       "      <td>0.773765</td>\n",
       "    </tr>\n",
       "  </tbody>\n",
       "</table>\n",
       "</div>"
      ],
      "text/plain": [
       "      index   eps  epsgrowth  netincome  shareholderequity   roa  \\\n",
       "1556  MRQ-3  1.78      26.19    1750000           63810000  8.72   \n",
       "1557  MRQ-2  2.32      30.07    2190000           68370000  9.20   \n",
       "1558  MRQ-1  0.58     -74.80     588000           66140000  8.86   \n",
       "1559    MRQ  4.78     718.70    4400000           70220000  9.52   \n",
       "\n",
       "      longtermdebt  interestexpense  ebitda  ST Debt      Cash Ticker  \\\n",
       "1556      19030000          2280000       0        0  18440000    MET   \n",
       "1557      19160000          2820000       0        0  19450000    MET   \n",
       "1558      18980000           265000       0        0  16600000    MET   \n",
       "1559      18640000          5680000       0        0  24090000    MET   \n",
       "\n",
       "      TotalDebt       D2C  \n",
       "1556   19030000  1.031996  \n",
       "1557   19160000  0.985090  \n",
       "1558   18980000  1.143373  \n",
       "1559   18640000  0.773765  "
      ]
     },
     "execution_count": 706,
     "metadata": {},
     "output_type": "execute_result"
    }
   ],
   "source": [
    "#filter my fundamentals\n",
    "\n",
    "def Filter(data, tfilt, quant):\n",
    "    data = data[data['index'] == tfilt]\n",
    "    data = data[data.D2C < data['D2C'].quantile(quant)]\n",
    "    return data\n",
    "\n",
    "#filter 2019 D2C in the top 98th percentile to try and get the super high outliers\n",
    "df2019 = Filter(df,2019,.98)\n",
    "\n",
    "#create a dataframe for the trailing 12 month eps\n",
    "dfQ = dfQ[dfQ['index'] != 'MRQ-4'].sort_values(by = 'Ticker')\n",
    "epsQ = dfQ.loc[:,('Ticker','eps')]\n",
    "epsQ.columns = ['Ticker', 'epsTTM']\n",
    "epsQ = epsQ.groupby('Ticker').sum()\n",
    "\n",
    "#create a dataframe for the most recent quarter's Debt to Cash Ratio\n",
    "MRQ_D2C = dfQ[dfQ['index'] == 'MRQ'].loc[:,('Ticker','D2C', 'TotalDebt', 'epsgrowth')]\n",
    "MRQ_D2C.columns = ['Ticker', 'MRQ_D2C', 'MRQ_TotalDebt', 'MRQ_epsGrowth']\n",
    "\n",
    "dfQ[dfQ.Ticker == 'MET']"
   ]
  },
  {
   "cell_type": "code",
   "execution_count": 726,
   "metadata": {},
   "outputs": [
    {
     "data": {
      "image/png": "[encoded data removed]",
      "text/plain": [
       "<Figure size 432x288 with 1 Axes>"
      ]
     },
     "metadata": {},
     "output_type": "display_data"
    }
   ],
   "source": [
    "# run an ECDF on 2019's D2C\n",
    "pD2C = np.percentile(df2019.D2C, np.array([25, 50, 75]))\n",
    "\n",
    "sns.set()\n",
    "x = np.sort(df2019.D2C)\n",
    "y = np.arange(1, len(x) + 1) / len(x) * 100\n",
    "\n",
    "\n",
    "ecdf = plt.plot(x, y, marker = '.', linestyle = 'none')\n",
    "ecdf = plt.plot(pD2C, np.array([25,50,75]), marker = 'D', color = 'red', linestyle = 'none' )\n",
    "ecdf = plt.xlabel('Debt to Cash')\n",
    "ecdf = plt.ylabel('ECDF')\n",
    "ecdf = plt.title('Cumulative Distribution Frequency for Debt to Cash')\n",
    "ecdf = plt.savefig('ECDF')\n",
    "plt.margins = .02\n",
    "plt.show()\n"
   ]
  },
  {
   "cell_type": "code",
   "execution_count": 708,
   "metadata": {},
   "outputs": [],
   "source": [
    "import yfinance as yf\n",
    "def Pricing(ticker, dstart, dend, Type):\n",
    "\n",
    "    df = yf.download(ticker, \n",
    "                          start=dstart, \n",
    "                          end = dend,\n",
    "                          progress=False, group_by = 'Ticker')\n",
    "\n",
    "    df = df.reset_index()\n",
    "    df = df.melt(id_vars = 'Date', var_name = ['Ticker', 'Type'])\n",
    "    df = df[df.Type == Type]\n",
    "    \n",
    "    return df\n"
   ]
  },
  {
   "cell_type": "code",
   "execution_count": 709,
   "metadata": {},
   "outputs": [
    {
     "name": "stdout",
     "output_type": "stream",
     "text": [
      "\n",
      "6 Failed downloads:\n",
      "- CARR: Data doesn't exist for startDate = 1577768400, endDate = 1577941200\n",
      "- BF.B: No data found for this date range, symbol may be delisted\n",
      "- OTIS: Data doesn't exist for startDate = 1577768400, endDate = 1577941200\n",
      "- TT: No data found for this date range, symbol may be delisted\n",
      "- HWM: No data found for this date range, symbol may be delisted\n",
      "- BRK.B: No data found, symbol may be delisted\n"
     ]
    }
   ],
   "source": [
    "#create YE stock price dataframe\n",
    "YE2019 = Pricing(list(Symbol), '2019-12-31', '2020-01-02', 'Close')\n",
    "YE2019 = YE2019[YE2019.Date == '2019-12-31']"
   ]
  },
  {
   "cell_type": "code",
   "execution_count": 710,
   "metadata": {},
   "outputs": [
    {
     "name": "stdout",
     "output_type": "stream",
     "text": [
      "\n",
      "2 Failed downloads:\n",
      "- BF.B: No data found for this date range, symbol may be delisted\n",
      "- BRK.B: No data found, symbol may be delisted\n",
      "2020-06-17 00:00:00\n"
     ]
    }
   ],
   "source": [
    "def RollingPrice(sdate, edate, lookback):\n",
    "    YTDPrice = Pricing(list(Symbol), sdate, edate, 'Close')\n",
    "    YTDPrice = YTDPrice.sort_values(by = ['Ticker','Date'])\n",
    "    YTDPrice['Rolling'] = YTDPrice.value.rolling(window = lookback).mean()\n",
    "    Rolling = YTDPrice[YTDPrice.Date == YTDPrice.Date.max()]\n",
    "    print(Rolling.Date.max())\n",
    "    Rolling = Rolling.loc[:,('Ticker','Rolling')]\n",
    "    return Rolling\n",
    "\n",
    "Rolling = RollingPrice('2019-12-31', '2020-06-18',30)"
   ]
  },
  {
   "cell_type": "code",
   "execution_count": 711,
   "metadata": {},
   "outputs": [],
   "source": [
    "#subset the YE pricing to include only the ticker and price\n",
    "p2019 = YE2019.loc[:,('Ticker','value')]\n",
    "p2019.columns = ['Ticker', 'YEPrice']\n"
   ]
  },
  {
   "cell_type": "code",
   "execution_count": 712,
   "metadata": {},
   "outputs": [],
   "source": [
    "new = pd.merge(df2019,p2019,on = 'Ticker', how = 'left')\n",
    "new = pd.merge(new,epsQ, on ='Ticker', how = 'left')\n",
    "new = pd.merge(new, Rolling, on = 'Ticker', how = 'left')\n",
    "new = pd.merge(new,MRQ_D2C, on = 'Ticker', how = 'left' )\n",
    "new = pd.merge(new, companies, on = 'Ticker')\n",
    "\n",
    "new['YEPE'] = new.YEPrice / new.eps\n",
    "new['peTTM'] = new.Rolling / new.epsTTM\n",
    "new['PEVariance'] = new.peTTM - new.YEPE\n",
    "new['D2CChange'] = (new.MRQ_D2C - new.D2C) / new.D2C"
   ]
  },
  {
   "cell_type": "code",
   "execution_count": 713,
   "metadata": {},
   "outputs": [
    {
     "data": {
      "text/plain": [
       "Index(['index', 'eps', 'epsgrowth', 'netincome', 'shareholderequity', 'roa',\n",
       "       'longtermdebt', 'interestexpense', 'ebitda', 'ST Debt', 'Cash',\n",
       "       'Ticker', 'TotalDebt', 'D2C', 'YEPrice', 'epsTTM', 'Rolling', 'MRQ_D2C',\n",
       "       'MRQ_TotalDebt', 'MRQ_epsGrowth', 'Name', 'Sector', 'YEPE', 'peTTM',\n",
       "       'PEVariance', 'D2CChange'],\n",
       "      dtype='object')"
      ]
     },
     "execution_count": 713,
     "metadata": {},
     "output_type": "execute_result"
    }
   ],
   "source": [
    "new.columns"
   ]
  },
  {
   "cell_type": "code",
   "execution_count": 714,
   "metadata": {},
   "outputs": [],
   "source": [
    "def ExtraC(row):\n",
    "    \n",
    "    points = 0\n",
    "    epsGrowth = row['MRQ_epsGrowth']\n",
    "    debtdec = row['Change in Debt']\n",
    "    \n",
    "    if epsGrowth > 0:\n",
    "        points = points + 1\n",
    "    \n",
    "    if debtdec < 0:\n",
    "        points = points + 1\n",
    "    \n",
    "    return points"
   ]
  },
  {
   "cell_type": "code",
   "execution_count": 737,
   "metadata": {},
   "outputs": [],
   "source": [
    "top25 = new.D2C.quantile(.25)\n",
    "\n",
    "#Filters\n",
    "PickList = new[new.D2C <= top25]\n",
    "PickList = PickList[PickList.epsgrowth > 0]\n",
    "PickList = PickList[PickList.PEVariance < 0]\n",
    "PickList = PickList[PickList.D2CChange < .10]\n",
    "PickList = PickList[PickList.epsTTM > 0]\n",
    "\n",
    "#final table\n",
    "PickList = PickList.loc[:,('Ticker','Name', 'Sector','eps','epsTTM','MRQ_epsGrowth', 'YEPE', 'peTTM', 'PEVariance', 'D2C', 'MRQ_D2C', 'D2CChange', 'TotalDebt', 'MRQ_TotalDebt')]\n",
    "#PickList.to_excel('PickList.xlsx')\n",
    "PickList.TotalDebt = PickList.TotalDebt/1000\n",
    "PickList.MRQ_TotalDebt = PickList.MRQ_TotalDebt/1000\n",
    "PickList.MRQ_epsGrowth = PickList.MRQ_epsGrowth/100\n",
    "PickList['Change in Debt'] = PickList.MRQ_TotalDebt - PickList.TotalDebt\n",
    "PickList['ExtraCredit'] = PickList.apply(ExtraC, axis = 1)"
   ]
  },
  {
   "cell_type": "code",
   "execution_count": 738,
   "metadata": {},
   "outputs": [],
   "source": [
    "PickList = PickList.sort_values(by = 'ExtraCredit', ascending = False)\n",
    "PickList.to_excel('PickList.xlsx')"
   ]
  },
  {
   "cell_type": "code",
   "execution_count": 759,
   "metadata": {},
   "outputs": [
    {
     "data": {
      "image/png": "[encoded data removed]",
      "text/plain": [
       "<Figure size 432x288 with 1 Axes>"
      ]
     },
     "metadata": {},
     "output_type": "display_data"
    },
    {
     "data": {
      "text/plain": [
       "<Figure size 432x288 with 0 Axes>"
      ]
     },
     "metadata": {},
     "output_type": "display_data"
    }
   ],
   "source": [
    "x = pd.DataFrame(new.groupby('Sector')['MRQ_D2C'].mean()).reset_index()\n",
    "x = x.sort_values(by = 'MRQ_D2C')\n",
    "\n",
    "_ = plt.barh(x['Sector'],x['MRQ_D2C'])\n",
    "_ = plt.xlabel('Debt to Cash')\n",
    "_ = plt.ylabel('Sector')\n",
    "_ = plt.title('Average D2C by Sector')\n",
    "\n",
    "plt.figsize = (40,40)\n",
    "plt.show()\n",
    "plt.savefig('AverageD2C')"
   ]
  },
  {
   "cell_type": "code",
   "execution_count": 769,
   "metadata": {},
   "outputs": [
    {
     "data": {
      "image/png": "[encoded data removed]",
      "text/plain": [
       "<Figure size 432x288 with 1 Axes>"
      ]
     },
     "metadata": {},
     "output_type": "display_data"
    },
    {
     "data": {
      "text/plain": [
       "<Figure size 432x288 with 0 Axes>"
      ]
     },
     "metadata": {},
     "output_type": "display_data"
    }
   ],
   "source": [
    "x = pd.DataFrame(new.groupby('Sector')['PEVariance'].mean()).reset_index()\n",
    "x = x.sort_values(by = 'PEVariance', ascending = True)\n",
    "\n",
    "_ = plt.barh(x['Sector'],x['PEVariance'])\n",
    "_ = plt.xlabel('Change in PE Ratio')\n",
    "_ = plt.ylabel('Sector')\n",
    "_ = plt.title('Change PE Ratio by Sector')\n",
    "\n",
    "_ = plt.figsize = (500,500)\n",
    "plt.show()\n",
    "plt.savefig('AverageD2C')"
   ]
  }
 ],
 "metadata": {
  "kernelspec": {
   "display_name": "Python 3",
   "language": "python",
   "name": "python3"
  },
  "language_info": {
   "codemirror_mode": {
    "name": "ipython",
    "version": 3
   },
   "file_extension": ".py",
   "mimetype": "text/x-python",
   "name": "python",
   "nbconvert_exporter": "python",
   "pygments_lexer": "ipython3",
   "version": "3.7.6"
  }
 },
 "nbformat": 4,
 "nbformat_minor": 4
}
