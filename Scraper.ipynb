{
 "cells": [
  {
   "cell_type": "code",
   "execution_count": 20,
   "metadata": {},
   "outputs": [],
   "source": [
    "import pandas as pd\n",
    "from bs4 import BeautifulSoup\n",
    "import requests\n",
    "from datetime import date\n",
    "import re\n",
    "\n",
    "#got started with code from medium ariticle: https://link.medium.com/siL0vVKhp7\n",
    "\n",
    "#Get Lis of S&P\n",
    "companies = pd.read_csv('https://datahub.io/core/s-and-p-500-companies/r/constituents.csv')\n",
    "Symbol = companies.Symbol\n",
    "\n",
    "def getfinancialreportingdf(ticker, timeframe = 'A'):\n",
    "\n",
    "\n",
    "    \n",
    "    # try:\n",
    "    if timeframe == 'Q':\n",
    "        urlfinancials = 'https://www.marketwatch.com/investing/stock/'+ticker+'/financials/income/quarter'\n",
    "        urlbalancesheet = 'https://www.marketwatch.com/investing/stock/'+ticker+'/financials/balance-sheet/quarter'\n",
    "        tfIndex = ['MRQ-4', 'MRQ-3', 'MRQ-2', 'MRQ-1', 'MRQ']\n",
    "    else:\n",
    "        urlfinancials = 'https://www.marketwatch.com/investing/stock/'+ticker+'/financials'\n",
    "        urlbalancesheet = 'https://www.marketwatch.com/investing/stock/'+ticker+'/financials/balance-sheet'\n",
    "        tfIndex = range(date.today().year-5,date.today().year)\n",
    "    text_soup_financials = BeautifulSoup(requests.get(urlfinancials).text,\"lxml\") #read in\n",
    "    text_soup_balancesheet = BeautifulSoup(requests.get(urlbalancesheet).text,\"lxml\") #read in\n",
    "\n",
    "\n",
    "    # Income statement\n",
    "    titlesfinancials = text_soup_financials.findAll('td', {'class': 'rowTitle'})\n",
    "    epslist=[]\n",
    "    netincomelist = []\n",
    "    longtermdebtlist = [] \n",
    "    stdebtlist = []\n",
    "    interestexpenselist = []\n",
    "    ebitdalist= []\n",
    "    cashlist = []\n",
    "    for title in titlesfinancials:\n",
    "        if 'EPS (Basic)' in title.text:\n",
    "            epslist.append ([td.text for td in title.findNextSiblings(attrs={'class': 'valueCell'}) if td.text])\n",
    "        if 'Net Income' in title.text:\n",
    "            netincomelist.append ([td.text for td in title.findNextSiblings(attrs={'class': 'valueCell'}) if td.text])\n",
    "        if 'Interest Expense' in title.text:\n",
    "            interestexpenselist.append ([td.text for td in title.findNextSiblings(attrs={'class': 'valueCell'}) if td.text])\n",
    "        if 'EBITDA' in title.text:\n",
    "            ebitdalist.append ([td.text for td in title.findNextSiblings(attrs={'class': 'valueCell'}) if td.text])\n",
    "\n",
    "    \n",
    "\n",
    "    # Balance sheet\n",
    "    titlesbalancesheet = text_soup_balancesheet.findAll('td', {'class': 'rowTitle'})\n",
    "    equitylist=[]\n",
    "    for title in titlesbalancesheet:\n",
    "        if 'Total Shareholders\\' Equity' in title.text:\n",
    "            equitylist.append( [td.text for td in title.findNextSiblings(attrs={'class': 'valueCell'}) if td.text])\n",
    "        if 'Long-Term Debt' in title.text:\n",
    "            longtermdebtlist.append( [td.text for td in title.findNextSiblings(attrs={'class': 'valueCell'}) if td.text])\n",
    "        if 'ST Debt & Current Portion LT Debt' in title.text:\n",
    "            stdebtlist.append ([td.text for td in title.findNextSiblings(attrs={'class': 'valueCell'}) if td.text])\n",
    "\n",
    "        if 'Cash' in title.text:\n",
    "            cashlist.append ([td.text for td in title.findNextSiblings(attrs={'class': 'valueCell'}) if td.text])\n",
    "            \n",
    "    eps = getelementinlist(epslist,0)\n",
    "    epsgrowth = getelementinlist(epslist,1)\n",
    "    netincome = getelementinlist(netincomelist,0)\n",
    "    shareholderequity = getelementinlist(equitylist,0)\n",
    "    roa = getelementinlist(equitylist,1)\n",
    "    cash = getelementinlist(cashlist,0)\n",
    "    \n",
    "    \n",
    "    longtermdebt = getelementinlist(longtermdebtlist,0)\n",
    "    stdebt = getelementinlist(stdebtlist,0)\n",
    "    interestexpense =  getelementinlist(interestexpenselist,0)\n",
    "    ebitda = getelementinlist(ebitdalist,0)\n",
    "    # Don't forget to add in roe, interest coverage ratio\n",
    "\n",
    "    ## Make it into Dataframes\n",
    "\n",
    "    df= pd.DataFrame({'eps': eps,'epsgrowth': epsgrowth,'netincome': netincome,'shareholderequity': shareholderequity,'roa': \n",
    "                  roa,'longtermdebt': longtermdebt,'interestexpense': interestexpense,'ebitda': ebitda, 'ST Debt': stdebt,\n",
    "                     'Cash': cash},\n",
    "                      index=tfIndex)\n",
    "    return df\n",
    "\n",
    "def getelementinlist(list,element):\n",
    "    try:\n",
    "        return list[element]\n",
    "    except:\n",
    "        return 0\n",
    "\n",
    "\n",
    "\n"
   ]
  },
  {
   "cell_type": "markdown",
   "metadata": {},
   "source": [
    "<font color=red> **Note: each loop takes approximately 10 to 15 minutes to complete. The code will print out what stock you're on in the output i.e. '1 out of 505'. You can just let run in the background. </font>"
   ]
  },
  {
   "cell_type": "code",
   "execution_count": 25,
   "metadata": {},
   "outputs": [
    {
     "name": "stdout",
     "output_type": "stream",
     "text": [
      "1 of 505\n",
      "2 of 505\n",
      "3 of 505\n",
      "4 of 505\n",
      "5 of 505\n"
     ]
    }
   ],
   "source": [
    "# run quarterly financials\n",
    "\n",
    "SPListQ = [] \n",
    "counter = 0\n",
    "\n",
    "for ticker in Symbol:\n",
    "    counter = counter + 1\n",
    "\n",
    "    try:\n",
    "        df = getfinancialreportingdf(ticker, timeframe = 'Q')\n",
    "        df['Ticker'] = ticker\n",
    "        SPListQ.append(df)\n",
    "        print(str(counter) + ' of ' + str(len(Symbol)))\n",
    "    except:\n",
    "        print('Error Downloading: ' + ticker)\n",
    "        \n",
    "\n",
    "\n",
    "\n"
   ]
  },
  {
   "cell_type": "code",
   "execution_count": 28,
   "metadata": {},
   "outputs": [
    {
     "name": "stdout",
     "output_type": "stream",
     "text": [
      "1 of 505\n",
      "2 of 505\n",
      "3 of 505\n",
      "4 of 505\n",
      "5 of 505\n"
     ]
    }
   ],
   "source": [
    "# run annual financials\n",
    "\n",
    "SPList = [] \n",
    "counter = 0\n",
    "\n",
    "for ticker in Symbol:\n",
    "    counter = counter + 1\n",
    "\n",
    "    try:\n",
    "        df = getfinancialreportingdf(ticker)\n",
    "        df['Ticker'] = ticker\n",
    "        SPList.append(df)\n",
    "        print(str(counter) + ' of ' + str(len(Symbol)))\n",
    "    except:\n",
    "        print('Error Downloading: ' + ticker)\n",
    "        "
   ]
  },
  {
   "cell_type": "code",
   "execution_count": 24,
   "metadata": {},
   "outputs": [],
   "source": [
    "StockDF.to_csv('Stock_Scrape.csv')\n",
    "StockDFQ.to_csv('Stock_ScrapeQ.csv')"
   ]
  }
 ],
 "metadata": {
  "kernelspec": {
   "display_name": "Python 3.7.6 64-bit ('base': conda)",
   "language": "python",
   "name": "python37664bitbasecondaa8b2bb7a1475404398bd16ebfacc95c1"
  },
  "language_info": {
   "codemirror_mode": {
    "name": "ipython",
    "version": 3
   },
   "file_extension": ".py",
   "mimetype": "text/x-python",
   "name": "python",
   "nbconvert_exporter": "python",
   "pygments_lexer": "ipython3",
   "version": "3.7.6"
  }
 },
 "nbformat": 4,
 "nbformat_minor": 4
}
